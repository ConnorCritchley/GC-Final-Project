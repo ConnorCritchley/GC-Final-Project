{
 "cells": [
  {
   "cell_type": "markdown",
   "id": "9752364b-78dd-434d-bb43-74513e001afd",
   "metadata": {},
   "source": [
    "# Grand Circus Final Project\n",
    "### Car Crash and Safety Data Comparisons/Evaluations\n",
    "\n",
    "This project aims to compare safety ratings from crash tests to actual data of fatal crashes. The use of fatal crash data is better suited for hard crashes where occupant life is and was in danger, providing more relevant data entries compared to fender benders or other minimal 'traffic incidents'. This analysis could be useful for car buyers, car manufactureres, government testers, and insurance companies."
   ]
  },
  {
   "cell_type": "markdown",
   "id": "56c1e353-3240-4956-9f06-80bf359f3a82",
   "metadata": {},
   "source": [
    "## Extraction\n",
    "To start the ETA process, data but be extracted and placed into usable structures. To do this, we will be importing the data from the api(s) and any other flat file sources."
   ]
  },
  {
   "cell_type": "code",
   "execution_count": 161,
   "id": "1cbf99cb-0957-45e9-8c5b-25535059fba9",
   "metadata": {},
   "outputs": [],
   "source": [
    "import pandas as pd\n",
    "import requests\n",
    "import json\n",
    "\n",
    "# Begin pulling make names and ID's for internal use\n",
    "# Definitions endpoint query\n",
    "make_url = \"https://crashviewer.nhtsa.dot.gov/CrashAPI/definitions/GetVariableAttributes?variable=make&caseYear=2010&format=json\"\n",
    "\n",
    "# Base URL for NHTSA API\n",
    "#base_url = \"https://crashviewer.nhtsa.dot.gov/CrashAPI/crashes/\"\n",
    "#params = \"GetCrashesByVehicle?make=6&model=41&modelyear=2003&bodyType=4&fromCaseYear=2010&toCaseYear=2015&state=21&format=json\"\n",
    "\n",
    "# Get response\n",
    "response = requests.get(make_url)\n",
    "# Turn response into json\n",
    "data = response.json()"
   ]
  },
  {
   "cell_type": "code",
   "execution_count": 163,
   "id": "2bc83b33-c8d6-4b97-a54e-ca3a1623f667",
   "metadata": {},
   "outputs": [],
   "source": [
    "#Drill down json to list of dictionary\n",
    "results = data['Results'][0]"
   ]
  },
  {
   "cell_type": "code",
   "execution_count": 159,
   "id": "6327ea98-3fd8-4326-8512-4e82f3d1fa3c",
   "metadata": {},
   "outputs": [
    {
     "data": {
      "text/html": [
       "<div>\n",
       "<style scoped>\n",
       "    .dataframe tbody tr th:only-of-type {\n",
       "        vertical-align: middle;\n",
       "    }\n",
       "\n",
       "    .dataframe tbody tr th {\n",
       "        vertical-align: top;\n",
       "    }\n",
       "\n",
       "    .dataframe thead th {\n",
       "        text-align: right;\n",
       "    }\n",
       "</style>\n",
       "<table border=\"1\" class=\"dataframe\">\n",
       "  <thead>\n",
       "    <tr style=\"text-align: right;\">\n",
       "      <th></th>\n",
       "      <th>ID</th>\n",
       "      <th>Name</th>\n",
       "    </tr>\n",
       "  </thead>\n",
       "  <tbody>\n",
       "    <tr>\n",
       "      <th>3</th>\n",
       "      <td>1</td>\n",
       "      <td>American Motors</td>\n",
       "    </tr>\n",
       "    <tr>\n",
       "      <th>19</th>\n",
       "      <td>10</td>\n",
       "      <td>Eagle</td>\n",
       "    </tr>\n",
       "    <tr>\n",
       "      <th>22</th>\n",
       "      <td>12</td>\n",
       "      <td>Ford</td>\n",
       "    </tr>\n",
       "    <tr>\n",
       "      <th>44</th>\n",
       "      <td>13</td>\n",
       "      <td>Lincoln</td>\n",
       "    </tr>\n",
       "    <tr>\n",
       "      <th>49</th>\n",
       "      <td>14</td>\n",
       "      <td>Mercury</td>\n",
       "    </tr>\n",
       "  </tbody>\n",
       "</table>\n",
       "</div>"
      ],
      "text/plain": [
       "    ID             Name\n",
       "3    1  American Motors\n",
       "19  10            Eagle\n",
       "22  12             Ford\n",
       "44  13          Lincoln\n",
       "49  14          Mercury"
      ]
     },
     "execution_count": 159,
     "metadata": {},
     "output_type": "execute_result"
    }
   ],
   "source": [
    "# split data into lists\n",
    "id_list = []\n",
    "name_list = []\n",
    "for entry in results:\n",
    "    id_list.append(entry['ID'])\n",
    "    name_list.append(entry['TEXT'])\n",
    "\n",
    "# Make columns dictionary based on lists\n",
    "data = {'ID': id_list, 'Name': name_list}\n",
    "\n",
    "# Create df using dictionary\n",
    "manufacturer_df = pd.DataFrame(data)\n",
    "\n",
    "# Sort by Id instead of name\n",
    "manufacturer_df = manufacturer_df.sort_values(by=['ID'])\n",
    "manufacturer_df.head()"
   ]
  },
  {
   "cell_type": "markdown",
   "id": "25172caa-31bf-4cdc-9a89-21a404ea25a0",
   "metadata": {},
   "source": [
    "## Transformation\n",
    "Now that we have usable, workable data, we can begin cleaning and organizing."
   ]
  },
  {
   "cell_type": "code",
   "execution_count": null,
   "id": "cc56862a-5069-42b1-87fd-ae4dd22dea7a",
   "metadata": {},
   "outputs": [],
   "source": [
    "# Transformation code\n",
    "\n",
    "# Drop any unneeded columns/rows\n",
    "    # duplicates\n",
    "    # nulls\n",
    "    # outliers\n",
    "\n",
    "# Merge/Join Data into one dataframe\n",
    "\n"
   ]
  },
  {
   "cell_type": "markdown",
   "id": "ed0ba1ff-478a-4523-9053-dc63d992e3f9",
   "metadata": {},
   "source": [
    "## Analysis\n",
    "With curated data, analysis can begin to check for trends, patters, and correlations."
   ]
  },
  {
   "cell_type": "code",
   "execution_count": null,
   "id": "23f00958-3245-43c7-b1cc-552c33bd200a",
   "metadata": {},
   "outputs": [],
   "source": [
    "# Analysis stuff\n",
    "\n",
    "# list stats\n",
    "    # most common car with fatalities\n",
    "    # that kinda stuff, idk\n",
    "\n",
    "# can probably save visualizing for PowerBI\n",
    "\n",
    "# more stuff I'm probably forgetting"
   ]
  }
 ],
 "metadata": {
  "kernelspec": {
   "display_name": "Python 3 (ipykernel)",
   "language": "python",
   "name": "python3"
  },
  "language_info": {
   "codemirror_mode": {
    "name": "ipython",
    "version": 3
   },
   "file_extension": ".py",
   "mimetype": "text/x-python",
   "name": "python",
   "nbconvert_exporter": "python",
   "pygments_lexer": "ipython3",
   "version": "3.12.2"
  }
 },
 "nbformat": 4,
 "nbformat_minor": 5
}
