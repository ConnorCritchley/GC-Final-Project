{
 "cells": [
  {
   "cell_type": "markdown",
   "id": "9752364b-78dd-434d-bb43-74513e001afd",
   "metadata": {},
   "source": [
    "# Grand Circus Final Project\n",
    "### Car Crash and Safety Data Comparisons/Evaluations\n",
    "\n",
    "This project aims to compare safety ratings from crash tests to actual data of fatal crashes. The use of fatal crash data is better suited for hard crashes where occupant life is and was in danger, providing more relevant data entries compared to fender benders or other minimal 'traffic incidents'. This analysis could be useful for car buyers, car manufactureres, government testers, and insurance companies."
   ]
  },
  {
   "cell_type": "markdown",
   "id": "56c1e353-3240-4956-9f06-80bf359f3a82",
   "metadata": {},
   "source": [
    "## Extraction\n",
    "To start the ETA process, data but be extracted and placed into usable structures. To do this, we will be importing the data from the api(s) and any other flat file sources."
   ]
  },
  {
   "cell_type": "code",
   "execution_count": null,
   "id": "1cbf99cb-0957-45e9-8c5b-25535059fba9",
   "metadata": {},
   "outputs": [],
   "source": [
    "import pandas as pd\n",
    "import requests\n",
    "\n",
    "# Extraction code"
   ]
  },
  {
   "cell_type": "markdown",
   "id": "25172caa-31bf-4cdc-9a89-21a404ea25a0",
   "metadata": {},
   "source": [
    "## Transformation\n",
    "Now that we have usable, workable data, we can begin cleaning and organizing."
   ]
  },
  {
   "cell_type": "code",
   "execution_count": null,
   "id": "cc56862a-5069-42b1-87fd-ae4dd22dea7a",
   "metadata": {},
   "outputs": [],
   "source": [
    "# Transformation code\n",
    "\n",
    "# Drop any unneeded columns/rows\n",
    "    # duplicates\n",
    "    # nulls\n",
    "    # outliers\n",
    "\n",
    "# Merge/Join Data into one dataframe\n",
    "\n"
   ]
  },
  {
   "cell_type": "markdown",
   "id": "ed0ba1ff-478a-4523-9053-dc63d992e3f9",
   "metadata": {},
   "source": [
    "## Analysis\n",
    "With curated data, analysis can begin to check for trends, patters, and correlations."
   ]
  },
  {
   "cell_type": "code",
   "execution_count": null,
   "id": "23f00958-3245-43c7-b1cc-552c33bd200a",
   "metadata": {},
   "outputs": [],
   "source": [
    "# Analysis stuff\n",
    "\n",
    "# list stats\n",
    "    # most common car with fatalities\n",
    "    # that kinda stuff, idk\n",
    "\n",
    "# can probably save visualizing for PowerBI\n",
    "\n",
    "# more stuff I'm probably forgetting"
   ]
  }
 ],
 "metadata": {
  "kernelspec": {
   "display_name": "Python 3 (ipykernel)",
   "language": "python",
   "name": "python3"
  },
  "language_info": {
   "codemirror_mode": {
    "name": "ipython",
    "version": 3
   },
   "file_extension": ".py",
   "mimetype": "text/x-python",
   "name": "python",
   "nbconvert_exporter": "python",
   "pygments_lexer": "ipython3",
   "version": "3.12.2"
  }
 },
 "nbformat": 4,
 "nbformat_minor": 5
}
